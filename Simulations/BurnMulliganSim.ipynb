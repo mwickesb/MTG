{
 "cells": [
  {
   "cell_type": "code",
   "execution_count": null,
   "metadata": {},
   "outputs": [],
   "source": [
    "import os\n",
    "import sys\n",
    "sys.path.insert(0, os.path.abspath('../Core'))\n",
    "sys.path.insert(0, os.path.abspath('../Strategy'))"
   ]
  },
  {
   "cell_type": "code",
   "execution_count": null,
   "metadata": {
    "collapsed": true
   },
   "outputs": [],
   "source": [
    "from Core.GameState import *\n",
    "from Strategy.MulliganStrategy import *"
   ]
  },
  {
   "cell_type": "code",
   "execution_count": null,
   "metadata": {},
   "outputs": [],
   "source": [
    "#Next will load our aggro deck, shuffle it up, and draw a fresh 7\n",
    "FILE_NAME = \"../Decks/AggroDeck.json\"\n",
    "hand = Zone(\"hand\")\n",
    "library = importDeck(FILE_NAME)\n",
    "library.drawCards(hand, 7)"
   ]
  },
  {
   "cell_type": "code",
   "execution_count": null,
   "metadata": {
    "collapsed": true
   },
   "outputs": [],
   "source": [
    "# 7 card mulligan rule\n",
    "typesNeeded = {\n",
    "    \"Land\" : [2,3],\n",
    "    \"OTHER\": [4,5]\n",
    "}\n",
    "shouldMull = mullBasedNeededTypes(hand, typesNeeded)\n",
    "numMull = 0"
   ]
  },
  {
   "cell_type": "code",
   "execution_count": null,
   "metadata": {
    "collapsed": true
   },
   "outputs": [],
   "source": [
    "# 6 card mulligan rule\n",
    "if shouldMull:\n",
    "    hand = Zone(\"hand\")\n",
    "    library = importDeck(FILE_NAME)\n",
    "    library.drawCards(hand, 6)\n",
    "    numMull = 1\n",
    "\n",
    "    typesNeeded = {\n",
    "        \"Land\": [1, 3],\n",
    "        \"OTHER\": [3, 5]\n",
    "    }\n",
    "    shouldMull = mullBasedNeededTypes(hand, typesNeeded)"
   ]
  },
  {
   "cell_type": "code",
   "execution_count": null,
   "metadata": {
    "collapsed": true
   },
   "outputs": [],
   "source": [
    "# 5 card mulligan rule, keep anything\n",
    "if shouldMull:\n",
    "    hand = Zone(\"hand\")\n",
    "    library = importDeck(FILE_NAME)\n",
    "    library.drawCards(hand, 5)\n",
    "    numMull = 2"
   ]
  },
  {
   "cell_type": "code",
   "execution_count": null,
   "metadata": {},
   "outputs": [],
   "source": [
    "# Print results\n",
    "if numMull == 0:\n",
    "    print(\"Congrats, no need to mulligan\")\n",
    "else:\n",
    "    print(\"Shoot, mull to \", (7-numMull))\n",
    "hand.printCards()"
   ]
  },
  {
   "cell_type": "code",
   "execution_count": null,
   "metadata": {
    "collapsed": true
   },
   "outputs": [],
   "source": [
    ""
   ]
  },
  {
   "cell_type": "code",
   "execution_count": null,
   "metadata": {
    "collapsed": true
   },
   "outputs": [],
   "source": [
    ""
   ]
  }
 ],
 "metadata": {
  "kernelspec": {
   "display_name": "Python 3",
   "language": "python",
   "name": "python3"
  },
  "language_info": {
   "codemirror_mode": {
    "name": "ipython",
    "version": 3.0
   },
   "file_extension": ".py",
   "mimetype": "text/x-python",
   "name": "python",
   "nbconvert_exporter": "python",
   "pygments_lexer": "ipython3",
   "version": "3.5.3"
  }
 },
 "nbformat": 4,
 "nbformat_minor": 0
}